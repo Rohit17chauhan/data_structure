{
 "cells": [
  {
   "cell_type": "code",
   "execution_count": 1,
   "id": "304aa60a-4fdd-4aa1-bdca-276f65609bb2",
   "metadata": {},
   "outputs": [
    {
     "data": {
      "text/plain": [
       "'Q1. How do you comment code in Python? What are the different types of comments?'"
      ]
     },
     "execution_count": 1,
     "metadata": {},
     "output_type": "execute_result"
    }
   ],
   "source": [
    "\"\"\"Q1. How do you comment code in Python? What are the different types of comments?\"\"\""
   ]
  },
  {
   "cell_type": "code",
   "execution_count": 2,
   "id": "5592317d-1012-4bec-9fac-6ff3635adbc5",
   "metadata": {},
   "outputs": [
    {
     "data": {
      "text/plain": [
       "'Ans_1'"
      ]
     },
     "execution_count": 2,
     "metadata": {},
     "output_type": "execute_result"
    }
   ],
   "source": [
    "\"\"\"Ans_1\"\"\""
   ]
  },
  {
   "cell_type": "code",
   "execution_count": null,
   "id": "f0be71fa-89a5-4272-8d0e-14308356b54c",
   "metadata": {},
   "outputs": [],
   "source": [
    "comment= (\"there are three way 1- using hash(#)\")\n"
   ]
  },
  {
   "cell_type": "code",
   "execution_count": null,
   "id": "7407f35b-3098-43aa-8afe-6f04b4e9e885",
   "metadata": {},
   "outputs": [],
   "source": [
    "comment1= '2-usng double quote at three time (\"\"\" statement \"\"\")'\n"
   ]
  },
  {
   "cell_type": "code",
   "execution_count": null,
   "id": "1569086c-72d3-495b-9ced-a4e838d4cb28",
   "metadata": {},
   "outputs": [],
   "source": [
    "comment2= \"3- using single quote three time (''' statement ''') \""
   ]
  },
  {
   "cell_type": "code",
   "execution_count": 12,
   "id": "98c483e7-d0ea-4d3b-bc58-2f73e1444821",
   "metadata": {},
   "outputs": [
    {
     "data": {
      "text/plain": [
       "'Q2. What are variables in Python? How do you declare and assign values to variables?'"
      ]
     },
     "execution_count": 12,
     "metadata": {},
     "output_type": "execute_result"
    }
   ],
   "source": [
    "\"\"\"Q2. What are variables in Python? How do you declare and assign values to variables?\"\"\""
   ]
  },
  {
   "cell_type": "code",
   "execution_count": 13,
   "id": "4b38ca39-90a5-4e5f-b4e7-e35a2e619015",
   "metadata": {},
   "outputs": [
    {
     "data": {
      "text/plain": [
       "'Ans-2'"
      ]
     },
     "execution_count": 13,
     "metadata": {},
     "output_type": "execute_result"
    }
   ],
   "source": [
    "\"\"\"Ans-2\"\"\""
   ]
  },
  {
   "cell_type": "code",
   "execution_count": 15,
   "id": "2c3b466d-b3e0-4682-b0bc-65f7ca870230",
   "metadata": {},
   "outputs": [],
   "source": [
    "ans_2=\" we use varible to assigne a data or to store a value or data in variable \""
   ]
  },
  {
   "cell_type": "code",
   "execution_count": 16,
   "id": "9911750d-732a-4172-891d-3325f837471d",
   "metadata": {},
   "outputs": [],
   "source": [
    "a=45\n",
    "# this is how assign a data into a varibale where a is the varible which store a 45 as data "
   ]
  },
  {
   "cell_type": "code",
   "execution_count": 17,
   "id": "ac68c056-d4f6-45c8-9276-1948a9db9c02",
   "metadata": {},
   "outputs": [
    {
     "data": {
      "text/plain": [
       "45"
      ]
     },
     "execution_count": 17,
     "metadata": {},
     "output_type": "execute_result"
    }
   ],
   "source": [
    "a"
   ]
  },
  {
   "cell_type": "code",
   "execution_count": 18,
   "id": "2b7ad0ca-59e7-4cc6-b74b-daf8866e38ff",
   "metadata": {},
   "outputs": [
    {
     "data": {
      "text/plain": [
       "' we use varible to assigne a data or to store a value or data in variable '"
      ]
     },
     "execution_count": 18,
     "metadata": {},
     "output_type": "execute_result"
    }
   ],
   "source": [
    "ans_2"
   ]
  },
  {
   "cell_type": "code",
   "execution_count": 19,
   "id": "f6fec671-3996-4cdc-b2cf-6746d5d12004",
   "metadata": {},
   "outputs": [
    {
     "data": {
      "text/plain": [
       "'Q3. How do you convert one data type to another in Python?'"
      ]
     },
     "execution_count": 19,
     "metadata": {},
     "output_type": "execute_result"
    }
   ],
   "source": [
    "\"\"\"Q3. How do you convert one data type to another in Python?\"\"\""
   ]
  },
  {
   "cell_type": "code",
   "execution_count": 20,
   "id": "3ba1da16-fbaf-4866-9665-75d5ddf49857",
   "metadata": {},
   "outputs": [],
   "source": [
    "ans_3=45"
   ]
  },
  {
   "cell_type": "code",
   "execution_count": 22,
   "id": "a4be9440-6e23-492a-a515-b854e10ac147",
   "metadata": {},
   "outputs": [
    {
     "data": {
      "text/plain": [
       "45"
      ]
     },
     "execution_count": 22,
     "metadata": {},
     "output_type": "execute_result"
    }
   ],
   "source": [
    "ans_3 "
   ]
  },
  {
   "cell_type": "code",
   "execution_count": 23,
   "id": "27b77845-264a-4f4c-937b-02eaa68f03e7",
   "metadata": {},
   "outputs": [
    {
     "data": {
      "text/plain": [
       "int"
      ]
     },
     "execution_count": 23,
     "metadata": {},
     "output_type": "execute_result"
    }
   ],
   "source": [
    "type(ans_3)"
   ]
  },
  {
   "cell_type": "code",
   "execution_count": 28,
   "id": "a50dd08c-6f6a-4c55-a485-21b60180bfa6",
   "metadata": {},
   "outputs": [],
   "source": [
    "b=str(ans_3)"
   ]
  },
  {
   "cell_type": "code",
   "execution_count": 29,
   "id": "a6afe8a6-eedb-4076-b924-3494bf09630e",
   "metadata": {},
   "outputs": [
    {
     "data": {
      "text/plain": [
       "'45'"
      ]
     },
     "execution_count": 29,
     "metadata": {},
     "output_type": "execute_result"
    }
   ],
   "source": [
    "b"
   ]
  },
  {
   "cell_type": "code",
   "execution_count": 31,
   "id": "4886101e-5419-49fa-84b3-b807d8ac29d1",
   "metadata": {},
   "outputs": [
    {
     "data": {
      "text/plain": [
       "str"
      ]
     },
     "execution_count": 31,
     "metadata": {},
     "output_type": "execute_result"
    }
   ],
   "source": [
    "type(b)\n",
    "# this is the method how we convert one data type into another data type"
   ]
  },
  {
   "cell_type": "code",
   "execution_count": 32,
   "id": "8f4f3236-b184-4930-8ce3-0116b031fa3c",
   "metadata": {},
   "outputs": [
    {
     "data": {
      "text/plain": [
       "'Q4. How do you write and execute a Python script from the command line?'"
      ]
     },
     "execution_count": 32,
     "metadata": {},
     "output_type": "execute_result"
    }
   ],
   "source": [
    "\"\"\"Q4. How do you write and execute a Python script from the command line?\"\"\""
   ]
  },
  {
   "cell_type": "code",
   "execution_count": 37,
   "id": "5ad7c862-c558-4da4-87d3-94773cfd9337",
   "metadata": {},
   "outputs": [],
   "source": [
    "Ans_4=\" shift + enter \""
   ]
  },
  {
   "cell_type": "code",
   "execution_count": 38,
   "id": "c2671797-0345-43a0-b9c8-e57923dca8c8",
   "metadata": {},
   "outputs": [
    {
     "data": {
      "text/plain": [
       "' shift + enter '"
      ]
     },
     "execution_count": 38,
     "metadata": {},
     "output_type": "execute_result"
    }
   ],
   "source": [
    "Ans_4"
   ]
  },
  {
   "cell_type": "code",
   "execution_count": 39,
   "id": "59c79ee8-4598-4a6a-8cd9-a3cfe5c168f2",
   "metadata": {},
   "outputs": [
    {
     "data": {
      "text/plain": [
       "'Q5. Given a list my_list = [1, 2, 3, 4, 5], write the code to slice the list and obtain the sub-list [2, 3].'"
      ]
     },
     "execution_count": 39,
     "metadata": {},
     "output_type": "execute_result"
    }
   ],
   "source": [
    "\"\"\"Q5. Given a list my_list = [1, 2, 3, 4, 5], write the code to slice the list and obtain the sub-list [2, 3].\"\"\""
   ]
  },
  {
   "cell_type": "code",
   "execution_count": 40,
   "id": "21056c1b-5441-47ed-976b-23e6a4027db1",
   "metadata": {},
   "outputs": [
    {
     "data": {
      "text/plain": [
       "'ans_5'"
      ]
     },
     "execution_count": 40,
     "metadata": {},
     "output_type": "execute_result"
    }
   ],
   "source": [
    "\"\"\"ans_5\"\"\""
   ]
  },
  {
   "cell_type": "code",
   "execution_count": 41,
   "id": "3efc8297-85fa-4d74-ba9f-795f041d6e2a",
   "metadata": {},
   "outputs": [
    {
     "data": {
      "text/plain": [
       "[1, 2, 3, 4, 5]"
      ]
     },
     "execution_count": 41,
     "metadata": {},
     "output_type": "execute_result"
    }
   ],
   "source": [
    "my_list = [1, 2, 3, 4, 5]\n",
    "my_list"
   ]
  },
  {
   "cell_type": "code",
   "execution_count": 43,
   "id": "7e8b58d6-591c-4120-aa82-1a30a36fb8cf",
   "metadata": {},
   "outputs": [
    {
     "data": {
      "text/plain": [
       "[2, 3]"
      ]
     },
     "execution_count": 43,
     "metadata": {},
     "output_type": "execute_result"
    }
   ],
   "source": [
    "my_list[1:3]"
   ]
  },
  {
   "cell_type": "code",
   "execution_count": 44,
   "id": "18e6bc5c-c445-42ea-9088-e27f5f6e244b",
   "metadata": {},
   "outputs": [
    {
     "data": {
      "text/plain": [
       "'Q6. What is a complex number in mathematics, and how is it represented in Python?'"
      ]
     },
     "execution_count": 44,
     "metadata": {},
     "output_type": "execute_result"
    }
   ],
   "source": [
    "\"\"\"Q6. What is a complex number in mathematics, and how is it represented in Python?\"\"\""
   ]
  },
  {
   "cell_type": "code",
   "execution_count": 45,
   "id": "1570c08c-0822-49a2-a51d-5f0345b3b2fb",
   "metadata": {},
   "outputs": [
    {
     "data": {
      "text/plain": [
       "'ans_6'"
      ]
     },
     "execution_count": 45,
     "metadata": {},
     "output_type": "execute_result"
    }
   ],
   "source": [
    "\"\"\"ans_6\"\"\""
   ]
  },
  {
   "cell_type": "code",
   "execution_count": 46,
   "id": "7e7dee86-dc18-4da8-b5c6-d4881640dc7b",
   "metadata": {},
   "outputs": [],
   "source": [
    "complex_num=\"a complex is a number which contain a real and imagenry number we represent like this 4+5j\""
   ]
  },
  {
   "cell_type": "code",
   "execution_count": 47,
   "id": "204a12ff-3f85-4150-9722-a57360e174d8",
   "metadata": {},
   "outputs": [
    {
     "data": {
      "text/plain": [
       "'a complex is a number which contain a real and imagenry number we represent like this 4+5j'"
      ]
     },
     "execution_count": 47,
     "metadata": {},
     "output_type": "execute_result"
    }
   ],
   "source": [
    "complex_num"
   ]
  },
  {
   "cell_type": "code",
   "execution_count": 48,
   "id": "5cc27347-c0b6-4d3d-9f49-e0e324726720",
   "metadata": {},
   "outputs": [
    {
     "data": {
      "text/plain": [
       "'Q7. What is the correct way to declare a variable named age and assign the value 25 to it?'"
      ]
     },
     "execution_count": 48,
     "metadata": {},
     "output_type": "execute_result"
    }
   ],
   "source": [
    "\"\"\"Q7. What is the correct way to declare a variable named age and assign the value 25 to it?\"\"\""
   ]
  },
  {
   "cell_type": "code",
   "execution_count": 49,
   "id": "833a9fda-c1bf-410a-ba86-c110796b4c9b",
   "metadata": {},
   "outputs": [
    {
     "data": {
      "text/plain": [
       "'ans_7'"
      ]
     },
     "execution_count": 49,
     "metadata": {},
     "output_type": "execute_result"
    }
   ],
   "source": [
    "\"\"\"ans_7\"\"\""
   ]
  },
  {
   "cell_type": "code",
   "execution_count": 51,
   "id": "0dda10f6-85e9-4ad2-9152-8b944288b926",
   "metadata": {},
   "outputs": [],
   "source": [
    "named_age=25"
   ]
  },
  {
   "cell_type": "code",
   "execution_count": 53,
   "id": "b4df59e8-4ef9-48c8-9f35-2a0582fa17ca",
   "metadata": {},
   "outputs": [
    {
     "data": {
      "text/plain": [
       "25"
      ]
     },
     "execution_count": 53,
     "metadata": {},
     "output_type": "execute_result"
    }
   ],
   "source": [
    "named_age"
   ]
  },
  {
   "cell_type": "code",
   "execution_count": 54,
   "id": "dd9284fb-1af3-48e5-a152-cc6bc65749fd",
   "metadata": {},
   "outputs": [
    {
     "data": {
      "text/plain": [
       "'Q8. Declare a variable named price and assign the value 9.99 to it. What data type does this variable\\nbelong to?'"
      ]
     },
     "execution_count": 54,
     "metadata": {},
     "output_type": "execute_result"
    }
   ],
   "source": [
    "\"\"\"Q8. Declare a variable named price and assign the value 9.99 to it. What data type does this variable\n",
    "belong to?\"\"\""
   ]
  },
  {
   "cell_type": "code",
   "execution_count": 55,
   "id": "048e61c8-545b-4d88-ba92-194e3b191dfc",
   "metadata": {},
   "outputs": [
    {
     "data": {
      "text/plain": [
       "'Ans_8'"
      ]
     },
     "execution_count": 55,
     "metadata": {},
     "output_type": "execute_result"
    }
   ],
   "source": [
    "\"\"\"Ans_8\"\"\""
   ]
  },
  {
   "cell_type": "code",
   "execution_count": 56,
   "id": "dda9d842-e826-48e1-89cd-abcc0f348fb3",
   "metadata": {},
   "outputs": [],
   "source": [
    "named_price=9.99"
   ]
  },
  {
   "cell_type": "code",
   "execution_count": 57,
   "id": "e7a87a5f-4471-45ff-8eef-03683652fad8",
   "metadata": {},
   "outputs": [
    {
     "data": {
      "text/plain": [
       "float"
      ]
     },
     "execution_count": 57,
     "metadata": {},
     "output_type": "execute_result"
    }
   ],
   "source": [
    "type(named_price)"
   ]
  },
  {
   "cell_type": "code",
   "execution_count": 58,
   "id": "53945f27-386f-4624-af95-809e8c62e0b2",
   "metadata": {},
   "outputs": [
    {
     "data": {
      "text/plain": [
       "'Q9. Create a variable named name and assign your full name to it as a string. How would you print the\\nvalue of this variable?'"
      ]
     },
     "execution_count": 58,
     "metadata": {},
     "output_type": "execute_result"
    }
   ],
   "source": [
    "\"\"\"Q9. Create a variable named name and assign your full name to it as a string. How would you print the\n",
    "value of this variable?\"\"\""
   ]
  },
  {
   "cell_type": "code",
   "execution_count": 59,
   "id": "0cf38bf3-5a17-4a09-b3b3-0da86aee2437",
   "metadata": {},
   "outputs": [
    {
     "data": {
      "text/plain": [
       "'Ans_9'"
      ]
     },
     "execution_count": 59,
     "metadata": {},
     "output_type": "execute_result"
    }
   ],
   "source": [
    "\"\"\"Ans_9\"\"\""
   ]
  },
  {
   "cell_type": "code",
   "execution_count": 60,
   "id": "63fc393e-0a66-4e2a-b246-a96733a160bc",
   "metadata": {},
   "outputs": [],
   "source": [
    "name=\" Rohit chauhan \""
   ]
  },
  {
   "cell_type": "code",
   "execution_count": 62,
   "id": "be71c7b6-9c3e-4ea2-9815-42d5719ceffd",
   "metadata": {},
   "outputs": [
    {
     "data": {
      "text/plain": [
       "' Rohit chauhan '"
      ]
     },
     "execution_count": 62,
     "metadata": {},
     "output_type": "execute_result"
    }
   ],
   "source": [
    "# by calling the same variable we can print value\n",
    "name"
   ]
  },
  {
   "cell_type": "code",
   "execution_count": 63,
   "id": "9ee2eda9-ba58-479d-a469-734b1c0590d7",
   "metadata": {},
   "outputs": [
    {
     "data": {
      "text/plain": [
       "' Q10. Given the string \"Hello, World!\", extract the substring \"World\".'"
      ]
     },
     "execution_count": 63,
     "metadata": {},
     "output_type": "execute_result"
    }
   ],
   "source": [
    "\"\"\" Q10. Given the string \"Hello, World!\", extract the substring \"World\".\"\"\""
   ]
  },
  {
   "cell_type": "code",
   "execution_count": 64,
   "id": "6a2169b2-ec42-4882-8740-08dea3d52905",
   "metadata": {},
   "outputs": [
    {
     "data": {
      "text/plain": [
       "' ans_10'"
      ]
     },
     "execution_count": 64,
     "metadata": {},
     "output_type": "execute_result"
    }
   ],
   "source": [
    "\"\"\" ans_10\"\"\""
   ]
  },
  {
   "cell_type": "code",
   "execution_count": 67,
   "id": "1d0e3417-b35c-42ac-9c8e-800447bad867",
   "metadata": {},
   "outputs": [],
   "source": [
    "h=\"Hello, World!\""
   ]
  },
  {
   "cell_type": "code",
   "execution_count": 68,
   "id": "aaab4272-056e-4aca-a79c-bebb731cfd62",
   "metadata": {},
   "outputs": [
    {
     "data": {
      "text/plain": [
       "'Hello, World!'"
      ]
     },
     "execution_count": 68,
     "metadata": {},
     "output_type": "execute_result"
    }
   ],
   "source": [
    "h"
   ]
  },
  {
   "cell_type": "code",
   "execution_count": 70,
   "id": "5b22b6a6-9235-42ad-8d41-95995c693cdd",
   "metadata": {},
   "outputs": [
    {
     "data": {
      "text/plain": [
       "'World'"
      ]
     },
     "execution_count": 70,
     "metadata": {},
     "output_type": "execute_result"
    }
   ],
   "source": [
    "h[7:12]"
   ]
  },
  {
   "cell_type": "code",
   "execution_count": 71,
   "id": "645432a1-c60b-4f91-9547-af963174bf97",
   "metadata": {},
   "outputs": [
    {
     "data": {
      "text/plain": [
       "'Q11. Create a variable named \"is_student\" and assign it a boolean value indicating whether you are\\ncurrently a student or not.'"
      ]
     },
     "execution_count": 71,
     "metadata": {},
     "output_type": "execute_result"
    }
   ],
   "source": [
    "\"\"\"Q11. Create a variable named \"is_student\" and assign it a boolean value indicating whether you are\n",
    "currently a student or not.\"\"\""
   ]
  },
  {
   "cell_type": "code",
   "execution_count": 72,
   "id": "543e09d0-3399-4881-8ecc-c70a8093e5ea",
   "metadata": {},
   "outputs": [],
   "source": [
    "is_student=True"
   ]
  },
  {
   "cell_type": "code",
   "execution_count": 73,
   "id": "df147ddf-542d-40dd-8306-a7bf418da6da",
   "metadata": {},
   "outputs": [
    {
     "data": {
      "text/plain": [
       "True"
      ]
     },
     "execution_count": 73,
     "metadata": {},
     "output_type": "execute_result"
    }
   ],
   "source": [
    "is_student"
   ]
  },
  {
   "cell_type": "code",
   "execution_count": null,
   "id": "66ad335b-205f-4b90-ba17-cc767cb063ba",
   "metadata": {},
   "outputs": [],
   "source": []
  }
 ],
 "metadata": {
  "kernelspec": {
   "display_name": "Python 3 (ipykernel)",
   "language": "python",
   "name": "python3"
  },
  "language_info": {
   "codemirror_mode": {
    "name": "ipython",
    "version": 3
   },
   "file_extension": ".py",
   "mimetype": "text/x-python",
   "name": "python",
   "nbconvert_exporter": "python",
   "pygments_lexer": "ipython3",
   "version": "3.10.8"
  }
 },
 "nbformat": 4,
 "nbformat_minor": 5
}
